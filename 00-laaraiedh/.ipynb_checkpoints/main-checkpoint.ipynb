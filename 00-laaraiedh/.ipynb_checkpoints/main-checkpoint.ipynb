{
 "cells": [
  {
   "cell_type": "markdown",
   "metadata": {},
   "source": [
    "# Implementation of Kalman Filter with Python Language "
   ]
  },
  {
   "cell_type": "markdown",
   "metadata": {},
   "source": [
    "source: https://arxiv.org/pdf/1204.0375.pdf"
   ]
  },
  {
   "cell_type": "markdown",
   "metadata": {},
   "source": [
    "## 1. Mathematical formulation"
   ]
  },
  {
   "cell_type": "markdown",
   "metadata": {},
   "source": [
    "Given measurements $y \\in \\Re^m$, we want to estimate the state $x \\in \\Re ^n$ of a discrete time controlled process that is governed by the linear stochastic equation:\n",
    "\n",
    "$$ x_k = Ax_{k-1} + Bu_k + w_{k} $$\n",
    "\n",
    "where\n",
    "\n",
    "* $A$ is the state transition model which is applied to the previous state $x_{k-1}$\n",
    "* $B$ is the control-input model which is applied to the control vector $u_k$\n",
    "* $w_k$ is the process noise which is assumed to be drawn from a zero mean multivariate normal distribution, $\\mathcal{N}$, with covariance $Q_k$: therefore $w_k \\sim \\mathcal{N}(0,\\,Q_k)$."
   ]
  },
  {
   "cell_type": "markdown",
   "metadata": {},
   "source": [
    "At time k a measurement (or observation) $y_k$ of the true state $x_k$ is made according to\n",
    "\n",
    "$$y_k = Hx_k + v_k $$\n",
    "\n",
    "where\n",
    "\n",
    "* $H$ is the observation model which maps the true state space into the observed space\n",
    "\n",
    "* $v_k$ is the observation noise which is assumed to be zero mean Gaussian white noise with covariance $R_k$: therefore $v_k \\sim \\mathcal{N}(0,\\,R_k)$"
   ]
  },
  {
   "cell_type": "markdown",
   "metadata": {},
   "source": [
    "###  Comments\n",
    "\n",
    "1. The mutual state, and the noise vectors at each step are all assumed to be mutually independent $ \\{x_0, w_1, \\dots, w_k, v_1, \\dots, v_k\\}  $\n",
    "\n",
    "2. Read about **unmodelled dynamics**...\n"
   ]
  },
  {
   "cell_type": "markdown",
   "metadata": {},
   "source": [
    "## 2. Kalman steps\n",
    "\n",
    "The Kalman filter process has two steps\n",
    "\n",
    "1. **prediction step** -- the next state of the system is predicted given the previous measurements\n",
    "\n",
    "2. **update step** -- the current state of the system is estimated given the measurement at that time step"
   ]
  },
  {
   "cell_type": "markdown",
   "metadata": {},
   "source": [
    "... check the equations..."
   ]
  },
  {
   "cell_type": "markdown",
   "metadata": {},
   "source": [
    "## 3. Implementation"
   ]
  },
  {
   "cell_type": "code",
   "execution_count": 56,
   "metadata": {},
   "outputs": [],
   "source": [
    "from numpy import dot, sum, tile, linalg, log, pi, exp\n",
    "from numpy.linalg import inv, det\n",
    "from numpy.random import randn\n"
   ]
  },
  {
   "cell_type": "code",
   "execution_count": 57,
   "metadata": {},
   "outputs": [],
   "source": [
    "def predict(X, P, A, Q, B, U):\n",
    "    X = dot(A, X) + dot(B, U)\n",
    "    P = dot(A, dot(P, A.T)) + Q\n",
    "    return (X, P)\n",
    "\n",
    "\n",
    "def update(X, P, Y, H, R):\n",
    "    IM = dot(H, X)\n",
    "    IS = R + dot(H, dot(P, H.T))\n",
    "    K = dot(P, dot(H.T, inv(IS)))\n",
    "    X = X + dot(K, (Y - IM))\n",
    "    P = P - dot(K, dot(IS, K.T))\n",
    "    LH = gauss_pdf(Y, IM, IS)\n",
    "    return (X, P, K, IM, IS, LH)\n",
    "\n",
    "\n",
    "def gauss_pdf(X, M, S): \n",
    "    if M.shape[1] == 1:\n",
    "        DX = X - tile(M, X.shape[1])\n",
    "        E = 0.5 * sum(DX * (dot(inv(S), DX)), axis=0)\n",
    "        E = E + 0.5 * M.shape[0] * log(2 * pi) + 0.5 * log(det(S))\n",
    "        P = exp(-E)\n",
    "        \n",
    "    elif X.shape[1] == 1:\n",
    "        DX = tile(X, M.shape()[1])- M\n",
    "        E = 0.5 * sum(DX * (dot(inv(S), DX)), axis=0)\n",
    "        E = E + 0.5 * M.shape[0] * log(2 * pi) + 0.5 * log(det(S))\n",
    "        P = exp(-E)\n",
    "        \n",
    "    else:\n",
    "        DX = X-M\n",
    "        E = 0.5 * dot(DX.T, dot(inv(S), DX))\n",
    "        E = E + 0.5 * M.shape[0] * log(2 * pi) + 0.5 * log(det(S))\n",
    "        P = exp(-E)\n",
    "        \n",
    "    return (P[0], E[0]) "
   ]
  },
  {
   "cell_type": "markdown",
   "metadata": {},
   "source": [
    "## 4. Application"
   ]
  },
  {
   "cell_type": "code",
   "execution_count": 58,
   "metadata": {},
   "outputs": [],
   "source": [
    "import numpy as np\n"
   ]
  },
  {
   "cell_type": "code",
   "execution_count": 61,
   "metadata": {},
   "outputs": [],
   "source": [
    "randn = np.random.randn\n",
    "\n",
    "# timestep\n",
    "dt = .1\n",
    "\n",
    "# initialization\n",
    "X = np.array([[0.0], [0.0], [0.1], [0.1]])\n",
    "P = np.diag((0.01, 0.01, 0.01, 0.01))\n",
    "A = np.array([[1, 0, dt , 0], [0, 1, 0, dt], [0, 0, 1, 0], [0, 0, 0, 1]])\n",
    "Q = np.eye(X.shape[0])\n",
    "B = np.eye(X.shape[0])\n",
    "U = np.zeros((X.shape[0],1))\n",
    "\n",
    "# Measurement matrices\n",
    "Y = np.array([[X[0,0] + abs(randn(1)[0])], [X[1,0] + abs(randn(1)[0])]])\n",
    "H = np.array([[1, 0, 0, 0], [0, 1, 0, 0]])\n",
    "R = np.eye(Y.shape[0])\n",
    "\n",
    "# Number of iterations in Kalman Filter\n",
    "N_iter = 50\n",
    "\n",
    "# Applying the Kalman Filter\n",
    "for i in np.arange(0, N_iter):\n",
    "    (X, P) = predict(X, P, A, Q, B, U)\n",
    "    (X, P, K, IM, IS, LH) = update(X, P, Y, H, R)\n",
    "    Y = np.array([[X[0,0] + abs(0.1 * randn(1)[0])],[X[1, 0] + abs(0.1 * randn(1)[0])]]) "
   ]
  },
  {
   "cell_type": "code",
   "execution_count": null,
   "metadata": {},
   "outputs": [],
   "source": []
  }
 ],
 "metadata": {
  "kernelspec": {
   "display_name": "Python 3",
   "language": "python",
   "name": "python3"
  },
  "language_info": {
   "codemirror_mode": {
    "name": "ipython",
    "version": 3
   },
   "file_extension": ".py",
   "mimetype": "text/x-python",
   "name": "python",
   "nbconvert_exporter": "python",
   "pygments_lexer": "ipython3",
   "version": "3.6.4"
  }
 },
 "nbformat": 4,
 "nbformat_minor": 2
}
